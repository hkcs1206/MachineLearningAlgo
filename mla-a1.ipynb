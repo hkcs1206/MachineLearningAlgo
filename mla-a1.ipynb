{
 "cells": [
  {
   "cell_type": "code",
   "execution_count": 1,
   "id": "57baa5f4",
   "metadata": {
    "_cell_guid": "b1076dfc-b9ad-4769-8c92-a6c4dae69d19",
    "_uuid": "8f2839f25d086af736a60e9eeb907d3b93b6e0e5",
    "execution": {
     "iopub.execute_input": "2023-01-12T08:20:04.655961Z",
     "iopub.status.busy": "2023-01-12T08:20:04.655345Z",
     "iopub.status.idle": "2023-01-12T08:20:04.682334Z",
     "shell.execute_reply": "2023-01-12T08:20:04.681412Z"
    },
    "papermill": {
     "duration": 0.037606,
     "end_time": "2023-01-12T08:20:04.685345",
     "exception": false,
     "start_time": "2023-01-12T08:20:04.647739",
     "status": "completed"
    },
    "tags": []
   },
   "outputs": [
    {
     "name": "stdout",
     "output_type": "stream",
     "text": [
      "/kaggle/input/goldpriceyahoo/MonthWise2022(Yahoo).csv\n",
      "/kaggle/input/goldpriceyahoo/DateWiseDec2022(Yahoo).csv\n"
     ]
    }
   ],
   "source": [
    "# This Python 3 environment comes with many helpful analytics libraries installed\n",
    "# It is defined by the kaggle/python Docker image: https://github.com/kaggle/docker-python\n",
    "# For example, here's several helpful packages to load\n",
    "\n",
    "import numpy as np # linear algebra\n",
    "import pandas as pd # data processing, CSV file I/O (e.g. pd.read_csv)\n",
    "\n",
    "# Input data files are available in the read-only \"../input/\" directory\n",
    "# For example, running this (by clicking run or pressing Shift+Enter) will list all files under the input directory\n",
    "\n",
    "import os\n",
    "for dirname, _, filenames in os.walk('/kaggle/input'):\n",
    "    for filename in filenames:\n",
    "        print(os.path.join(dirname, filename))\n",
    "\n",
    "# You can write up to 20GB to the current directory (/kaggle/working/) that gets preserved as output when you create a version using \"Save & Run All\" \n",
    "# You can also write temporary files to /kaggle/temp/, but they won't be saved outside of the current session"
   ]
  },
  {
   "cell_type": "code",
   "execution_count": 2,
   "id": "ad68af28",
   "metadata": {
    "execution": {
     "iopub.execute_input": "2023-01-12T08:20:04.697551Z",
     "iopub.status.busy": "2023-01-12T08:20:04.696837Z",
     "iopub.status.idle": "2023-01-12T08:20:04.706209Z",
     "shell.execute_reply": "2023-01-12T08:20:04.705060Z"
    },
    "papermill": {
     "duration": 0.018007,
     "end_time": "2023-01-12T08:20:04.708867",
     "exception": false,
     "start_time": "2023-01-12T08:20:04.690860",
     "status": "completed"
    },
    "tags": []
   },
   "outputs": [],
   "source": [
    "class Linear_Regression():\n",
    "  # Initiating Parameters(learning_rate,no_of_iterations)\n",
    "  def __init__(self,learning_rate,no_of_iterations):\n",
    "    self.learning_rate = learning_rate\n",
    "    self.no_of_iterations = no_of_iterations\n",
    "\n",
    "  def fit(self,X,Y):\n",
    "  # No_of_training_example(No of data points) and number of features()\n",
    "    self.m,self.n = X.shape #no of rows and colomn\n",
    "  # Initiating weight and bias\n",
    "    self.w = np.zeros(self.n)\n",
    "    self.b = 0\n",
    "    self.X = X\n",
    "    self.Y = Y\n",
    "\n",
    "  # Implementing Gradient Decent\n",
    "    for i in range(self.no_of_iterations):\n",
    "      self.updateWeight()\n",
    "\n",
    "\n",
    "\n",
    "  def updateWeight(self):\n",
    "\n",
    "    Y_prediction = self.predict(self.X)\n",
    "\n",
    "    # calculate gradients\n",
    "\n",
    "    dw = - (2 * (self.X.T).dot(self.Y - Y_prediction)) / self.m\n",
    "\n",
    "    db = - 2 * np.sum(self.Y - Y_prediction)/self.m\n",
    "\n",
    "    # upadating the weights\n",
    "    \n",
    "    self.w = self.w - self.learning_rate*dw\n",
    "    self.b = self.b - self.learning_rate*db\n",
    "  \n",
    "  def predict(self,X):\n",
    "    return X.dot(self.w) + self.b"
   ]
  },
  {
   "cell_type": "code",
   "execution_count": 3,
   "id": "57de157c",
   "metadata": {
    "execution": {
     "iopub.execute_input": "2023-01-12T08:20:04.721661Z",
     "iopub.status.busy": "2023-01-12T08:20:04.720588Z",
     "iopub.status.idle": "2023-01-12T08:20:05.948660Z",
     "shell.execute_reply": "2023-01-12T08:20:05.947296Z"
    },
    "papermill": {
     "duration": 1.237166,
     "end_time": "2023-01-12T08:20:05.951573",
     "exception": false,
     "start_time": "2023-01-12T08:20:04.714407",
     "status": "completed"
    },
    "tags": []
   },
   "outputs": [],
   "source": [
    "import numpy as np\n",
    "import pandas as pd\n",
    "from sklearn.model_selection import train_test_split\n",
    "import matplotlib.pyplot as plt"
   ]
  },
  {
   "cell_type": "code",
   "execution_count": 4,
   "id": "41d9885e",
   "metadata": {
    "execution": {
     "iopub.execute_input": "2023-01-12T08:20:05.962575Z",
     "iopub.status.busy": "2023-01-12T08:20:05.962193Z",
     "iopub.status.idle": "2023-01-12T08:20:05.977432Z",
     "shell.execute_reply": "2023-01-12T08:20:05.976219Z"
    },
    "papermill": {
     "duration": 0.024058,
     "end_time": "2023-01-12T08:20:05.980192",
     "exception": false,
     "start_time": "2023-01-12T08:20:05.956134",
     "status": "completed"
    },
    "tags": []
   },
   "outputs": [],
   "source": [
    "# Gold Rate Data\n",
    "goldMonth = pd.read_csv('/kaggle/input/goldpriceyahoo/MonthWise2022(Yahoo).csv')"
   ]
  },
  {
   "cell_type": "code",
   "execution_count": 5,
   "id": "5b06c4d3",
   "metadata": {
    "execution": {
     "iopub.execute_input": "2023-01-12T08:20:05.991310Z",
     "iopub.status.busy": "2023-01-12T08:20:05.990881Z",
     "iopub.status.idle": "2023-01-12T08:20:06.011195Z",
     "shell.execute_reply": "2023-01-12T08:20:06.010201Z"
    },
    "papermill": {
     "duration": 0.028875,
     "end_time": "2023-01-12T08:20:06.013710",
     "exception": false,
     "start_time": "2023-01-12T08:20:05.984835",
     "status": "completed"
    },
    "tags": []
   },
   "outputs": [
    {
     "data": {
      "text/html": [
       "<div>\n",
       "<style scoped>\n",
       "    .dataframe tbody tr th:only-of-type {\n",
       "        vertical-align: middle;\n",
       "    }\n",
       "\n",
       "    .dataframe tbody tr th {\n",
       "        vertical-align: top;\n",
       "    }\n",
       "\n",
       "    .dataframe thead th {\n",
       "        text-align: right;\n",
       "    }\n",
       "</style>\n",
       "<table border=\"1\" class=\"dataframe\">\n",
       "  <thead>\n",
       "    <tr style=\"text-align: right;\">\n",
       "      <th></th>\n",
       "      <th>Month</th>\n",
       "      <th>Price</th>\n",
       "    </tr>\n",
       "  </thead>\n",
       "  <tbody>\n",
       "    <tr>\n",
       "      <th>0</th>\n",
       "      <td>1</td>\n",
       "      <td>1795.0</td>\n",
       "    </tr>\n",
       "    <tr>\n",
       "      <th>1</th>\n",
       "      <td>2</td>\n",
       "      <td>1899.4</td>\n",
       "    </tr>\n",
       "    <tr>\n",
       "      <th>2</th>\n",
       "      <td>3</td>\n",
       "      <td>1949.2</td>\n",
       "    </tr>\n",
       "    <tr>\n",
       "      <th>3</th>\n",
       "      <td>4</td>\n",
       "      <td>1909.3</td>\n",
       "    </tr>\n",
       "    <tr>\n",
       "      <th>4</th>\n",
       "      <td>5</td>\n",
       "      <td>1804.1</td>\n",
       "    </tr>\n",
       "  </tbody>\n",
       "</table>\n",
       "</div>"
      ],
      "text/plain": [
       "   Month   Price\n",
       "0      1  1795.0\n",
       "1      2  1899.4\n",
       "2      3  1949.2\n",
       "3      4  1909.3\n",
       "4      5  1804.1"
      ]
     },
     "execution_count": 5,
     "metadata": {},
     "output_type": "execute_result"
    }
   ],
   "source": [
    "goldMonth.head()"
   ]
  },
  {
   "cell_type": "code",
   "execution_count": 6,
   "id": "611dcc29",
   "metadata": {
    "execution": {
     "iopub.execute_input": "2023-01-12T08:20:06.028217Z",
     "iopub.status.busy": "2023-01-12T08:20:06.026693Z",
     "iopub.status.idle": "2023-01-12T08:20:06.034966Z",
     "shell.execute_reply": "2023-01-12T08:20:06.033979Z"
    },
    "papermill": {
     "duration": 0.01857,
     "end_time": "2023-01-12T08:20:06.037222",
     "exception": false,
     "start_time": "2023-01-12T08:20:06.018652",
     "status": "completed"
    },
    "tags": []
   },
   "outputs": [
    {
     "data": {
      "text/plain": [
       "(11, 2)"
      ]
     },
     "execution_count": 6,
     "metadata": {},
     "output_type": "execute_result"
    }
   ],
   "source": [
    "goldMonth.shape"
   ]
  },
  {
   "cell_type": "code",
   "execution_count": 7,
   "id": "a193a6f0",
   "metadata": {
    "execution": {
     "iopub.execute_input": "2023-01-12T08:20:06.049773Z",
     "iopub.status.busy": "2023-01-12T08:20:06.049110Z",
     "iopub.status.idle": "2023-01-12T08:20:06.058224Z",
     "shell.execute_reply": "2023-01-12T08:20:06.056960Z"
    },
    "papermill": {
     "duration": 0.019225,
     "end_time": "2023-01-12T08:20:06.061304",
     "exception": false,
     "start_time": "2023-01-12T08:20:06.042079",
     "status": "completed"
    },
    "tags": []
   },
   "outputs": [],
   "source": [
    "# Split In X and Y (Feature V/S Target)\n",
    "X = goldMonth.iloc[:,:-1].values\n",
    "Y = goldMonth.iloc[:,1].values"
   ]
  },
  {
   "cell_type": "code",
   "execution_count": 8,
   "id": "1dcf8759",
   "metadata": {
    "execution": {
     "iopub.execute_input": "2023-01-12T08:20:06.073582Z",
     "iopub.status.busy": "2023-01-12T08:20:06.073181Z",
     "iopub.status.idle": "2023-01-12T08:20:06.081196Z",
     "shell.execute_reply": "2023-01-12T08:20:06.079876Z"
    },
    "papermill": {
     "duration": 0.017245,
     "end_time": "2023-01-12T08:20:06.083513",
     "exception": false,
     "start_time": "2023-01-12T08:20:06.066268",
     "status": "completed"
    },
    "tags": []
   },
   "outputs": [
    {
     "data": {
      "text/plain": [
       "array([[ 1],\n",
       "       [ 2],\n",
       "       [ 3],\n",
       "       [ 4],\n",
       "       [ 5],\n",
       "       [ 6],\n",
       "       [ 7],\n",
       "       [ 8],\n",
       "       [ 9],\n",
       "       [10],\n",
       "       [11]])"
      ]
     },
     "execution_count": 8,
     "metadata": {},
     "output_type": "execute_result"
    }
   ],
   "source": [
    "X"
   ]
  },
  {
   "cell_type": "code",
   "execution_count": 9,
   "id": "e27dbc60",
   "metadata": {
    "execution": {
     "iopub.execute_input": "2023-01-12T08:20:06.095991Z",
     "iopub.status.busy": "2023-01-12T08:20:06.095067Z",
     "iopub.status.idle": "2023-01-12T08:20:06.103001Z",
     "shell.execute_reply": "2023-01-12T08:20:06.101835Z"
    },
    "papermill": {
     "duration": 0.016678,
     "end_time": "2023-01-12T08:20:06.105311",
     "exception": false,
     "start_time": "2023-01-12T08:20:06.088633",
     "status": "completed"
    },
    "tags": []
   },
   "outputs": [
    {
     "data": {
      "text/plain": [
       "array([1795. , 1899.4, 1949.2, 1909.3, 1804.1, 1762.9, 1712.8, 1662.4,\n",
       "       1635.9, 1746. , 1819.7])"
      ]
     },
     "execution_count": 9,
     "metadata": {},
     "output_type": "execute_result"
    }
   ],
   "source": [
    "Y"
   ]
  },
  {
   "cell_type": "code",
   "execution_count": 10,
   "id": "987cbebb",
   "metadata": {
    "execution": {
     "iopub.execute_input": "2023-01-12T08:20:06.117150Z",
     "iopub.status.busy": "2023-01-12T08:20:06.116724Z",
     "iopub.status.idle": "2023-01-12T08:20:06.121103Z",
     "shell.execute_reply": "2023-01-12T08:20:06.120217Z"
    },
    "papermill": {
     "duration": 0.012985,
     "end_time": "2023-01-12T08:20:06.123316",
     "exception": false,
     "start_time": "2023-01-12T08:20:06.110331",
     "status": "completed"
    },
    "tags": []
   },
   "outputs": [],
   "source": [
    "model = Linear_Regression(learning_rate=0.01, no_of_iterations=1000)"
   ]
  },
  {
   "cell_type": "code",
   "execution_count": 11,
   "id": "f8874ac8",
   "metadata": {
    "execution": {
     "iopub.execute_input": "2023-01-12T08:20:06.135477Z",
     "iopub.status.busy": "2023-01-12T08:20:06.134800Z",
     "iopub.status.idle": "2023-01-12T08:20:06.158352Z",
     "shell.execute_reply": "2023-01-12T08:20:06.156708Z"
    },
    "papermill": {
     "duration": 0.032793,
     "end_time": "2023-01-12T08:20:06.161134",
     "exception": false,
     "start_time": "2023-01-12T08:20:06.128341",
     "status": "completed"
    },
    "tags": []
   },
   "outputs": [],
   "source": [
    "model.fit(X,Y)"
   ]
  },
  {
   "cell_type": "code",
   "execution_count": 12,
   "id": "0f907274",
   "metadata": {
    "execution": {
     "iopub.execute_input": "2023-01-12T08:20:06.173241Z",
     "iopub.status.busy": "2023-01-12T08:20:06.172773Z",
     "iopub.status.idle": "2023-01-12T08:20:06.179215Z",
     "shell.execute_reply": "2023-01-12T08:20:06.177869Z"
    },
    "papermill": {
     "duration": 0.015236,
     "end_time": "2023-01-12T08:20:06.181713",
     "exception": false,
     "start_time": "2023-01-12T08:20:06.166477",
     "status": "completed"
    },
    "tags": []
   },
   "outputs": [
    {
     "name": "stdout",
     "output_type": "stream",
     "text": [
      "weight =  -14.938759512448184\n",
      "bias =  1874.7281798430427\n"
     ]
    }
   ],
   "source": [
    "# print the parameters\n",
    "\n",
    "print('weight = ', model.w[0])\n",
    "print('bias = ', model.b)"
   ]
  },
  {
   "cell_type": "code",
   "execution_count": 13,
   "id": "62f60ed4",
   "metadata": {
    "execution": {
     "iopub.execute_input": "2023-01-12T08:20:06.194508Z",
     "iopub.status.busy": "2023-01-12T08:20:06.193689Z",
     "iopub.status.idle": "2023-01-12T08:20:06.199418Z",
     "shell.execute_reply": "2023-01-12T08:20:06.198425Z"
    },
    "papermill": {
     "duration": 0.014957,
     "end_time": "2023-01-12T08:20:06.201785",
     "exception": false,
     "start_time": "2023-01-12T08:20:06.186828",
     "status": "completed"
    },
    "tags": []
   },
   "outputs": [],
   "source": [
    "test_data_prediction = model.predict(X)"
   ]
  },
  {
   "cell_type": "code",
   "execution_count": 14,
   "id": "3acc3c7b",
   "metadata": {
    "execution": {
     "iopub.execute_input": "2023-01-12T08:20:06.214452Z",
     "iopub.status.busy": "2023-01-12T08:20:06.213499Z",
     "iopub.status.idle": "2023-01-12T08:20:06.221114Z",
     "shell.execute_reply": "2023-01-12T08:20:06.219343Z"
    },
    "papermill": {
     "duration": 0.017284,
     "end_time": "2023-01-12T08:20:06.224224",
     "exception": false,
     "start_time": "2023-01-12T08:20:06.206940",
     "status": "completed"
    },
    "tags": []
   },
   "outputs": [
    {
     "name": "stdout",
     "output_type": "stream",
     "text": [
      "[1859.78942033 1844.85066082 1829.91190131 1814.97314179 1800.03438228\n",
      " 1785.09562277 1770.15686326 1755.21810374 1740.27934423 1725.34058472\n",
      " 1710.40182521]\n"
     ]
    }
   ],
   "source": [
    "print(test_data_prediction)"
   ]
  },
  {
   "cell_type": "code",
   "execution_count": 15,
   "id": "1957c981",
   "metadata": {
    "execution": {
     "iopub.execute_input": "2023-01-12T08:20:06.237151Z",
     "iopub.status.busy": "2023-01-12T08:20:06.236201Z",
     "iopub.status.idle": "2023-01-12T08:20:06.485070Z",
     "shell.execute_reply": "2023-01-12T08:20:06.483864Z"
    },
    "papermill": {
     "duration": 0.257938,
     "end_time": "2023-01-12T08:20:06.487642",
     "exception": false,
     "start_time": "2023-01-12T08:20:06.229704",
     "status": "completed"
    },
    "tags": []
   },
   "outputs": [
    {
     "data": {
      "image/png": "[encoded data removed]",
      "text/plain": [
       "<Figure size 432x288 with 1 Axes>"
      ]
     },
     "metadata": {
      "needs_background": "light"
     },
     "output_type": "display_data"
    }
   ],
   "source": [
    "plt.scatter( X, Y, color = 'red' )\n",
    "plt.plot( X, test_data_prediction, color = 'blue' )    \n",
    "plt.xlabel( 'Month' )\n",
    "plt.ylabel( 'Price' )\n",
    "plt.title( 'Month vs Price' )\n",
    "plt.show()"
   ]
  }
 ],
 "metadata": {
  "kernelspec": {
   "display_name": "Python 3",
   "language": "python",
   "name": "python3"
  },
  "language_info": {
   "codemirror_mode": {
    "name": "ipython",
    "version": 3
   },
   "file_extension": ".py",
   "mimetype": "text/x-python",
   "name": "python",
   "nbconvert_exporter": "python",
   "pygments_lexer": "ipython3",
   "version": "3.7.12"
  },
  "papermill": {
   "default_parameters": {},
   "duration": 11.432904,
   "end_time": "2023-01-12T08:20:07.317233",
   "environment_variables": {},
   "exception": null,
   "input_path": "__notebook__.ipynb",
   "output_path": "__notebook__.ipynb",
   "parameters": {},
   "start_time": "2023-01-12T08:19:55.884329",
   "version": "2.3.4"
  }
 },
 "nbformat": 4,
 "nbformat_minor": 5
}
